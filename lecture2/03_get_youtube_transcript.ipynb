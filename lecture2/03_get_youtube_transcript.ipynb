{
  "cells": [
    {
      "cell_type": "markdown",
      "id": "0482d87b-ca88-4007-b25c-7a2277748106",
      "metadata": {
        "id": "0482d87b-ca88-4007-b25c-7a2277748106"
      },
      "source": [
        "# Lecture 02\n",
        "\n",
        "Jupyter Notebook - YouTube Transcript API\n",
        "\n",
        "Marcel Turcotte (School of Electrical Engineering and Computer Science,\n",
        "University of Ottawa)  \n",
        "2024-09-01\n",
        "\n",
        "# Learning objective\n",
        "\n",
        "-   **Illustrate** the process of identifying and resolving missing\n",
        "    library issues in Google Colab.\n",
        "\n",
        "> **Important**\n",
        ">\n",
        "> This example is meant to be executed in [Google\n",
        "> Colab](https://colab.research.google.com).\n",
        "\n",
        "# YouTube Transcript API\n",
        "\n",
        "In this notebook, we aim to utilize the [YouTube Transcript\n",
        "API](https://github.com/jdepoix/youtube-transcript-api) to automatically\n",
        "download the transcript of the video titled [Can Machines\n",
        "Think?](https://www.youtube.com/watch?v=Ex9GbzX6tMo) by Noam Chomsky.\n",
        "\n",
        "First, let’s import `YouTubeTranscriptApi` and `TextFormatter` from\n",
        "`youtube_transcript_api`."
      ]
    },
    {
      "cell_type": "code",
      "execution_count": null,
      "id": "9fe4feb6",
      "metadata": {
        "id": "9fe4feb6"
      },
      "outputs": [],
      "source": [
        "from youtube_transcript_api import YouTubeTranscriptApi\n",
        "from youtube_transcript_api.formatters import TextFormatter"
      ]
    },
    {
      "cell_type": "code",
      "execution_count": null,
      "id": "6782908a",
      "metadata": {
        "id": "6782908a",
        "outputId": "cc17a04f-acdb-4a28-c3d6-741f60eb228b"
      },
      "outputs": [
        {
          "name": "stdout",
          "output_type": "stream",
          "text": [
            "computers were being developed actual\n",
            "working computers and it was widely\n",
            "believed and still is that sooner or\n",
            "later they'll be massive computers with\n",
            "very rapid processing and they can deal\n",
            "with huge amounts of data carry out some\n",
            "statistical procedure on the data and\n",
            "something miraculous will come out it's\n",
            "still very widely believed that people\n",
            "are very misled by it\n",
            "in fact there's there's something called\n",
            "the\n",
            "Turing test which is probably heard\n",
            "about which, every year there's a\n",
            "competition if you win it you get a\n",
            "hundred-thousand dollars to pass something\n",
            "called the Turing test, a totally\n",
            "meaningless task it's is it supposed to\n",
            "show it can you show that machine's\n",
            "think it's all based on a paper of Alan\n",
            "Turing's it was a great position and one\n",
            "sounds of computational science and as\n",
            "an eight-page paper that he wrote in\n",
            "1950 on whether machines can think he\n",
            "starts off the paper by saying the\n",
            "question whether machines can think is\n",
            "too meaningless deserve discussion that\n",
            "sentence has somehow been ignored and\n",
            "the entire literature and there's a good\n",
            "reason for it because to ask whether\n",
            "machines think is basically asking\n",
            "what kind of metaphor you like that's\n",
            "like asking do submarine swim, well\n",
            "from a certain point you can say so\n",
            "from another point of view not but it's\n",
            "not a meaningful question he\n",
            "proposed this imitation game which is now called\n",
            "the Turing Test for a different\n",
            "reason he said it'll be interesting to,\n",
            "the idea is to see if you can construct a\n",
            "program that'll\n",
            "delude a blind observer you know and\n",
            "then see what's going on but not be\n",
            "able to distinguish the program to a\n",
            "person\n",
            "ok he says it will be useful for trying\n",
            "to as a challenge to create bigger\n",
            "machines better machines\n",
            "ok maybe so that probably was but it\n",
            "doesn't tell you anything about whether machines can\n",
            "think in fact the whole idea of machines\n",
            "thinking is posed in a way which is\n",
            "almost designed to cause confusion I\n",
            "should say that the people who are\n",
            "confused by this are some of the most of\n",
            "the leading philosophers most\n",
            "influential philosophers and scientists\n",
            "and others not a trivial thing won't\n",
            "mention names with many of you know for\n",
            "one thing machine the computer itself is\n",
            "maybe useful as a paperweight\n",
            "it doesn't do anything what is doing\n",
            "anything is the program that you put\n",
            "into it\n",
            "ok so the real quick if you want to pose\n",
            "the meaningless question it should be\n",
            "can programs think? well what's a program\n",
            "a program's just a theory written in a\n",
            "crazy notation so that a machine can,\n",
            "a computer can implement it, so the question\n",
            "really is well, can this theory think in other\n",
            "words is this a theory of thinking? Well I\n",
            "know the answer is not unless you\n",
            "understand something about thinking\n",
            "nothing the theory of X just cause it\n",
            "passes some meaningless test you know the\n",
            "theory of X if it gives you insight and\n",
            "understanding of the nature of X so the\n",
            "real question is are the theories that\n",
            "are written in these programs giving\n",
            "us some insight into the nature of thinking?\n",
            "And as soon as you pose that question you don't even\n",
            "bother with the prize, because of course they're not.\n"
          ]
        }
      ],
      "source": [
        "transcript = YouTubeTranscriptApi.get_transcript(\"Ex9GbzX6tMo\")\n",
        "formatter = TextFormatter()\n",
        "input_text = formatter.format_transcript(transcript)\n",
        "print(input_text)"
      ]
    },
    {
      "cell_type": "markdown",
      "id": "c7957087-baae-4b22-a07c-f68740ca0aa8",
      "metadata": {
        "id": "c7957087-baae-4b22-a07c-f68740ca0aa8"
      },
      "source": [
        "# Exploration\n",
        "\n",
        "`!` allows to run [Unix/Linux shell commands in\n",
        "IPython](https://www.python4data.science/en/latest/workspace/ipython/shell.html).\n",
        "\n",
        "-   `! uname -a` displays information about the system.\n",
        "-   `! ls` displays the content of the current directory.\n",
        "-   `! ls /` displays the content of the root directory.\n",
        "-   `! pwd` returns working directory name."
      ]
    }
  ],
  "metadata": {
    "kernelspec": {
      "display_name": "Python 3 (ipykernel)",
      "language": "python",
      "name": "python3"
    },
    "language_info": {
      "codemirror_mode": {
        "name": "ipython",
        "version": 3
      },
      "file_extension": ".py",
      "mimetype": "text/x-python",
      "name": "python",
      "nbconvert_exporter": "python",
      "pygments_lexer": "ipython3",
      "version": "3.12.0"
    },
    "colab": {
      "provenance": []
    }
  },
  "nbformat": 4,
  "nbformat_minor": 5
}